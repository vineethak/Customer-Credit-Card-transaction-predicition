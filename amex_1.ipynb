{
 "cells": [
  {
   "cell_type": "code",
   "execution_count": 1,
   "metadata": {
    "ExecuteTime": {
     "end_time": "2019-07-21T10:06:24.546104Z",
     "start_time": "2019-07-21T10:06:24.107341Z"
    }
   },
   "outputs": [],
   "source": [
    "import pandas as pd\n",
    "import numpy as np\n",
    "import matplotlib.pyplot as plt\n",
    "from collections import Counter\n",
    "from sklearn.feature_extraction.text import TfidfVectorizer, CountVectorizer\n",
    "from sklearn.preprocessing import StandardScaler\n",
    "import xgboost as xgb\n",
    "import lightgbm as lgb\n",
    "from sklearn import model_selection\n",
    "from sklearn.preprocessing import LabelEncoder\n",
    "import time\n",
    "from sklearn.metrics import mean_squared_error, mean_squared_log_error\n",
    "from sklearn.linear_model import LinearRegression\n",
    "from sklearn import linear_model\n",
    "import seaborn as sns\n",
    "import tqdm\n",
    "from sklearn.linear_model import Ridge, RidgeCV, ElasticNet, LassoCV, LassoLarsCV\n",
    "from scipy import stats\n",
    "from scipy.stats import norm, skew #for some statistics"
   ]
  },
  {
   "cell_type": "code",
   "execution_count": 2,
   "metadata": {
    "ExecuteTime": {
     "end_time": "2019-07-21T10:06:24.635843Z",
     "start_time": "2019-07-21T10:06:24.547311Z"
    }
   },
   "outputs": [],
   "source": [
    "train_data = pd.read_csv(\"data/train_data/train.csv\")\n",
    "test_data = pd.read_csv(\"data/test_data.csv\")"
   ]
  },
  {
   "cell_type": "code",
   "execution_count": 3,
   "metadata": {
    "ExecuteTime": {
     "end_time": "2019-07-21T10:06:24.655892Z",
     "start_time": "2019-07-21T10:06:24.637230Z"
    },
    "scrolled": true
   },
   "outputs": [
    {
     "data": {
      "text/html": [
       "<div>\n",
       "<style scoped>\n",
       "    .dataframe tbody tr th:only-of-type {\n",
       "        vertical-align: middle;\n",
       "    }\n",
       "\n",
       "    .dataframe tbody tr th {\n",
       "        vertical-align: top;\n",
       "    }\n",
       "\n",
       "    .dataframe thead th {\n",
       "        text-align: right;\n",
       "    }\n",
       "</style>\n",
       "<table border=\"1\" class=\"dataframe\">\n",
       "  <thead>\n",
       "    <tr style=\"text-align: right;\">\n",
       "      <th></th>\n",
       "      <th>Total</th>\n",
       "      <th>Percent</th>\n",
       "    </tr>\n",
       "  </thead>\n",
       "  <tbody>\n",
       "    <tr>\n",
       "      <th>investment_4</th>\n",
       "      <td>13894</td>\n",
       "      <td>0.987702</td>\n",
       "    </tr>\n",
       "    <tr>\n",
       "      <th>loan_enq</th>\n",
       "      <td>13821</td>\n",
       "      <td>0.982512</td>\n",
       "    </tr>\n",
       "    <tr>\n",
       "      <th>vehicle_loan_active</th>\n",
       "      <td>13712</td>\n",
       "      <td>0.974764</td>\n",
       "    </tr>\n",
       "    <tr>\n",
       "      <th>investment_3</th>\n",
       "      <td>13453</td>\n",
       "      <td>0.956352</td>\n",
       "    </tr>\n",
       "    <tr>\n",
       "      <th>investment_1</th>\n",
       "      <td>13417</td>\n",
       "      <td>0.953793</td>\n",
       "    </tr>\n",
       "    <tr>\n",
       "      <th>vehicle_loan_closed</th>\n",
       "      <td>13386</td>\n",
       "      <td>0.951589</td>\n",
       "    </tr>\n",
       "    <tr>\n",
       "      <th>investment_2</th>\n",
       "      <td>13040</td>\n",
       "      <td>0.926992</td>\n",
       "    </tr>\n",
       "    <tr>\n",
       "      <th>personal_loan_active</th>\n",
       "      <td>12933</td>\n",
       "      <td>0.919386</td>\n",
       "    </tr>\n",
       "    <tr>\n",
       "      <th>personal_loan_closed</th>\n",
       "      <td>12808</td>\n",
       "      <td>0.910500</td>\n",
       "    </tr>\n",
       "    <tr>\n",
       "      <th>dc_cons_jun</th>\n",
       "      <td>9064</td>\n",
       "      <td>0.644345</td>\n",
       "    </tr>\n",
       "    <tr>\n",
       "      <th>dc_cons_apr</th>\n",
       "      <td>8230</td>\n",
       "      <td>0.585057</td>\n",
       "    </tr>\n",
       "    <tr>\n",
       "      <th>dc_count_apr</th>\n",
       "      <td>8230</td>\n",
       "      <td>0.585057</td>\n",
       "    </tr>\n",
       "    <tr>\n",
       "      <th>dc_cons_may</th>\n",
       "      <td>7375</td>\n",
       "      <td>0.524277</td>\n",
       "    </tr>\n",
       "    <tr>\n",
       "      <th>dc_count_may</th>\n",
       "      <td>7375</td>\n",
       "      <td>0.524277</td>\n",
       "    </tr>\n",
       "    <tr>\n",
       "      <th>dc_count_jun</th>\n",
       "      <td>6552</td>\n",
       "      <td>0.465771</td>\n",
       "    </tr>\n",
       "    <tr>\n",
       "      <th>max_credit_amount_may</th>\n",
       "      <td>1495</td>\n",
       "      <td>0.106277</td>\n",
       "    </tr>\n",
       "    <tr>\n",
       "      <th>credit_amount_may</th>\n",
       "      <td>1495</td>\n",
       "      <td>0.106277</td>\n",
       "    </tr>\n",
       "    <tr>\n",
       "      <th>max_credit_amount_apr</th>\n",
       "      <td>1465</td>\n",
       "      <td>0.104144</td>\n",
       "    </tr>\n",
       "    <tr>\n",
       "      <th>credit_amount_apr</th>\n",
       "      <td>1465</td>\n",
       "      <td>0.104144</td>\n",
       "    </tr>\n",
       "    <tr>\n",
       "      <th>cc_count_apr</th>\n",
       "      <td>1038</td>\n",
       "      <td>0.073790</td>\n",
       "    </tr>\n",
       "  </tbody>\n",
       "</table>\n",
       "</div>"
      ],
      "text/plain": [
       "                       Total   Percent\n",
       "investment_4           13894  0.987702\n",
       "loan_enq               13821  0.982512\n",
       "vehicle_loan_active    13712  0.974764\n",
       "investment_3           13453  0.956352\n",
       "investment_1           13417  0.953793\n",
       "vehicle_loan_closed    13386  0.951589\n",
       "investment_2           13040  0.926992\n",
       "personal_loan_active   12933  0.919386\n",
       "personal_loan_closed   12808  0.910500\n",
       "dc_cons_jun             9064  0.644345\n",
       "dc_cons_apr             8230  0.585057\n",
       "dc_count_apr            8230  0.585057\n",
       "dc_cons_may             7375  0.524277\n",
       "dc_count_may            7375  0.524277\n",
       "dc_count_jun            6552  0.465771\n",
       "max_credit_amount_may   1495  0.106277\n",
       "credit_amount_may       1495  0.106277\n",
       "max_credit_amount_apr   1465  0.104144\n",
       "credit_amount_apr       1465  0.104144\n",
       "cc_count_apr            1038  0.073790"
      ]
     },
     "execution_count": 3,
     "metadata": {},
     "output_type": "execute_result"
    }
   ],
   "source": [
    "#handling missing data\n",
    "total = test_data.isnull().sum().sort_values(ascending=False)\n",
    "percent = (test_data.isnull().sum()/test_data.isnull().count()).sort_values(ascending=False)\n",
    "missing_data = pd.concat([total, percent], axis=1, keys=['Total', 'Percent'])\n",
    "missing_data.head(20)"
   ]
  },
  {
   "cell_type": "code",
   "execution_count": 4,
   "metadata": {
    "ExecuteTime": {
     "end_time": "2019-07-21T10:06:24.665500Z",
     "start_time": "2019-07-21T10:06:24.657146Z"
    }
   },
   "outputs": [],
   "source": [
    "#Incidentally the > 90% cols in train and test data are same. \n",
    "# drop_cols = ['id', investment_4','loan_enq', 'investment_3','investment_1',\\\n",
    "#              'vehicle_loan_closed', 'investment_2' , 'personal_loan_active' ,'personal_loan_closed',\n",
    "#             'vehicle_loan_active']\n",
    "drop_cols = [\"id\", \"investment_4\",\"loan_enq\",\"vehicle_loan_active\"]\n",
    "train_1 = train_data.drop(drop_cols,axis=1)\n",
    "test_1 = test_data.drop(drop_cols,axis=1)"
   ]
  },
  {
   "cell_type": "code",
   "execution_count": 5,
   "metadata": {
    "ExecuteTime": {
     "end_time": "2019-07-21T10:06:24.688212Z",
     "start_time": "2019-07-21T10:06:24.666581Z"
    }
   },
   "outputs": [],
   "source": [
    "train_1 = train_1.fillna(0)\n",
    "test_1 = test_1.fillna(0)"
   ]
  },
  {
   "cell_type": "code",
   "execution_count": 6,
   "metadata": {
    "ExecuteTime": {
     "end_time": "2019-07-21T10:06:25.229546Z",
     "start_time": "2019-07-21T10:06:24.689330Z"
    }
   },
   "outputs": [
    {
     "name": "stdout",
     "output_type": "stream",
     "text": [
      "\n",
      " mu = 9031.18 and sigma = 15720.61\n",
      "\n"
     ]
    },
    {
     "data": {
      "image/png": "[encoded data removed]",
      "text/plain": [
       "<Figure size 432x288 with 1 Axes>"
      ]
     },
     "metadata": {
      "needs_background": "light"
     },
     "output_type": "display_data"
    },
    {
     "data": {
      "image/png": "[encoded data removed]",
      "text/plain": [
       "<Figure size 432x288 with 1 Axes>"
      ]
     },
     "metadata": {
      "needs_background": "light"
     },
     "output_type": "display_data"
    }
   ],
   "source": [
    "data = (train_1[\"cc_cons_jun\"])\n",
    "sns.distplot(data , fit=norm);\n",
    "\n",
    "# Get the fitted parameters used by the function\n",
    "(mu, sigma) = norm.fit(data)\n",
    "print( '\\n mu = {:.2f} and sigma = {:.2f}\\n'.format(mu, sigma))\n",
    "\n",
    "#Now plot the distribution\n",
    "plt.legend(['Normal dist. ($\\mu=$ {:.2f} and $\\sigma=$ {:.2f} )'.format(mu, sigma)],\n",
    "            loc='best')\n",
    "plt.ylabel('Frequency')\n",
    "plt.title('cc_cons distribution')\n",
    "\n",
    "#Get also the QQ-plot\n",
    "fig = plt.figure()\n",
    "res = stats.probplot(data, plot=plt)\n",
    "plt.show()"
   ]
  },
  {
   "cell_type": "code",
   "execution_count": 7,
   "metadata": {
    "ExecuteTime": {
     "end_time": "2019-07-21T10:06:25.237073Z",
     "start_time": "2019-07-21T10:06:25.230536Z"
    }
   },
   "outputs": [],
   "source": [
    "train_1['cc_cons'] = np.log1p(train_1['cc_cons'])\n",
    "train_1['cc_cons_apr'] = np.log1p(train_1['cc_cons_apr'])\n",
    "train_1['cc_cons_may'] = np.log1p(train_1['cc_cons_may'])\n",
    "train_1['cc_cons_jun'] = np.log1p(train_1['cc_cons_jun'])\n",
    "\n",
    "test_1['cc_cons_apr'] = np.log1p(test_1['cc_cons_apr'])\n",
    "test_1['cc_cons_may'] = np.log1p(test_1['cc_cons_may'])\n",
    "test_1['cc_cons_jun'] = np.log1p(test_1['cc_cons_jun'])"
   ]
  },
  {
   "cell_type": "code",
   "execution_count": 8,
   "metadata": {
    "ExecuteTime": {
     "end_time": "2019-07-21T10:06:25.908268Z",
     "start_time": "2019-07-21T10:06:25.238075Z"
    }
   },
   "outputs": [
    {
     "data": {
      "text/plain": [
       "<matplotlib.axes._subplots.AxesSubplot at 0x7f6d6e193cc0>"
      ]
     },
     "execution_count": 8,
     "metadata": {},
     "output_type": "execute_result"
    },
    {
     "data": {
      "image/png": "[encoded data removed]",
      "text/plain": [
       "<Figure size 864x648 with 2 Axes>"
      ]
     },
     "metadata": {
      "needs_background": "light"
     },
     "output_type": "display_data"
    }
   ],
   "source": [
    "#Correlation map to see how features are correlated with SalePrice\n",
    "corrmat = train_1.corr()\n",
    "plt.subplots(figsize=(12,9))\n",
    "sns.heatmap(corrmat, vmax=0.9, square=True)"
   ]
  },
  {
   "cell_type": "code",
   "execution_count": 24,
   "metadata": {
    "ExecuteTime": {
     "end_time": "2019-07-21T10:15:51.365990Z",
     "start_time": "2019-07-21T10:15:51.360787Z"
    }
   },
   "outputs": [],
   "source": [
    "def one_hot_encoder(df, cat_cols = [\"account_type\", \"gender\", \"loan_enq\"]):\n",
    "    '''\n",
    "    One-Hot Encoder function\n",
    "    '''\n",
    "    print('Creating OHE features..\\nOld df shape:{}'.format(df.shape))\n",
    "    df = pd.get_dummies(df, columns=cat_cols)\n",
    "    print('New df shape:{}'.format(df.shape))\n",
    "    return df"
   ]
  },
  {
   "cell_type": "code",
   "execution_count": 26,
   "metadata": {
    "ExecuteTime": {
     "end_time": "2019-07-21T10:16:04.829181Z",
     "start_time": "2019-07-21T10:16:04.811932Z"
    }
   },
   "outputs": [
    {
     "name": "stdout",
     "output_type": "stream",
     "text": [
      "Creating OHE features..\n",
      "Old df shape:(32820, 40)\n",
      "New df shape:(32820, 42)\n",
      "Creating OHE features..\n",
      "Old df shape:(14067, 39)\n",
      "New df shape:(14067, 41)\n"
     ]
    }
   ],
   "source": [
    "cat_cols = [\"account_type\", \"gender\"]\n",
    "train_1 = one_hot_encoder(train_1,cat_cols)\n",
    "test_1 = one_hot_encoder(test_1,cat_cols)"
   ]
  },
  {
   "cell_type": "code",
   "execution_count": 27,
   "metadata": {
    "ExecuteTime": {
     "end_time": "2019-07-21T10:16:08.411880Z",
     "start_time": "2019-07-21T10:16:08.381270Z"
    }
   },
   "outputs": [],
   "source": [
    "X = train_1.drop(\"cc_cons\", axis=1)\n",
    "y = train_1[\"cc_cons\"]\n",
    "X_train, X_test, y_train, y_test = model_selection.train_test_split(X, y, test_size=0.20, random_state=314)"
   ]
  },
  {
   "cell_type": "code",
   "execution_count": 19,
   "metadata": {
    "ExecuteTime": {
     "end_time": "2019-07-21T10:14:12.324470Z",
     "start_time": "2019-07-21T10:14:12.319768Z"
    }
   },
   "outputs": [],
   "source": [
    "n_fold = 5\n",
    "folds = model_selection.KFold(n_splits=n_fold, shuffle=True, random_state=42)"
   ]
  },
  {
   "cell_type": "code",
   "execution_count": 82,
   "metadata": {
    "ExecuteTime": {
     "end_time": "2019-07-21T12:18:46.051825Z",
     "start_time": "2019-07-21T12:18:46.006400Z"
    }
   },
   "outputs": [],
   "source": [
    "def train_model(X, X_test, y, params, folds=folds, model_type='lgb', plot_feature_importance=False, model=None):\n",
    "\n",
    "    oof = np.zeros(X.shape[0])\n",
    "    prediction = np.zeros(X_test.shape[0])\n",
    "    prediction_train = np.zeros(X.shape[0])\n",
    "    scores = []\n",
    "    feature_importance = pd.DataFrame()\n",
    "    for fold_n, (train_index, valid_index) in enumerate(folds.split(X)):\n",
    "        print('Fold', fold_n, 'started at', time.ctime())\n",
    "        if model_type == 'sklearn':\n",
    "            X_train, X_valid = X[train_index], X[valid_index]\n",
    "        else:\n",
    "            X_train, X_valid = X.values[train_index], X.values[valid_index]\n",
    "        y_train, y_valid = y[train_index], y[valid_index]\n",
    "        \n",
    "        if model_type == 'lgb':\n",
    "            model = lgb.LGBMRegressor(**params, n_estimators = 20000, nthread = 4, n_jobs = -1)\n",
    "            model.fit(X_train, y_train, \n",
    "                    eval_set=[(X_train, y_train), (X_valid, y_valid)], eval_metric='rmse',\n",
    "                    verbose=1000, early_stopping_rounds=200)\n",
    "            \n",
    "            y_pred_valid = model.predict(X_valid)\n",
    "            y_pred = model.predict(X_test, num_iteration=model.best_iteration_)\n",
    "            y_pred_train = model.predict(X, num_iteration=model.best_iteration_)\n",
    "            \n",
    "        if model_type == 'xgb':\n",
    "            train_data = xgb.DMatrix(data=X_train, label=y_train)\n",
    "            valid_data = xgb.DMatrix(data=X_valid, label=y_valid)\n",
    "\n",
    "            watchlist = [(train_data, 'train'), (valid_data, 'valid_data')]\n",
    "            model = xgb.train(dtrain=train_data, num_boost_round=20000, evals=watchlist, early_stopping_rounds=200, verbose_eval=500, params=params)\n",
    "            y_pred_valid = model.predict(xgb.DMatrix(X_valid), ntree_limit=model.best_ntree_limit)\n",
    "            y_pred = model.predict(xgb.DMatrix(X_test.values), ntree_limit=model.best_ntree_limit)\n",
    "            y_pred_train = model.predict(xgb.DMatrix(X.values), ntree_limit=model.best_ntree_limit)\n",
    "\n",
    "        if model_type == 'sklearn':\n",
    "            model = model\n",
    "            model.fit(X_train, y_train)\n",
    "            y_pred_valid = model.predict(X_valid).reshape(-1,)\n",
    "            score = mean_squared_error(y_valid, y_pred_valid)            \n",
    "            y_pred = model.predict(X_test)\n",
    "            y_pred_train = model.predict(X)\n",
    "            \n",
    "\n",
    "        \n",
    "        oof[valid_index] = y_pred_valid.reshape(-1,)\n",
    "        scores.append(mean_squared_error(y_valid, y_pred_valid) ** 0.5)\n",
    "        \n",
    "        prediction += y_pred\n",
    "        prediction_train +=  y_pred_train\n",
    "        \n",
    "        if model_type == 'lgb':\n",
    "            # feature importance\n",
    "            fold_importance = pd.DataFrame()\n",
    "            fold_importance[\"feature\"] = X.columns\n",
    "            fold_importance[\"importance\"] = model.feature_importances_\n",
    "            fold_importance[\"fold\"] = fold_n + 1\n",
    "            feature_importance = pd.concat([feature_importance, fold_importance], axis=0)\n",
    "\n",
    "    prediction /= n_fold\n",
    "    \n",
    "    print('CV mean score: {0:.4f}, std: {1:.4f}.'.format(np.mean(scores), np.std(scores)))\n",
    "    \n",
    "    if model_type == 'lgb':\n",
    "        feature_importance[\"importance\"] /= n_fold\n",
    "        if plot_feature_importance:\n",
    "            cols = feature_importance[[\"feature\", \"importance\"]].groupby(\"feature\").mean().sort_values(\n",
    "                by=\"importance\", ascending=False)[:50].index\n",
    "\n",
    "            best_features = feature_importance.loc[feature_importance.feature.isin(cols)]\n",
    "\n",
    "            plt.figure(figsize=(16, 12));\n",
    "            sns.barplot(x=\"importance\", y=\"feature\", data=best_features.sort_values(by=\"importance\", ascending=False));\n",
    "            plt.title('LGB Features (avg over folds)');\n",
    "        \n",
    "            return oof, prediction, prediction_train, feature_importance\n",
    "        return oof, prediction\n",
    "    \n",
    "    else:\n",
    "        return oof, prediction , prediction_train"
   ]
  },
  {
   "cell_type": "code",
   "execution_count": 228,
   "metadata": {
    "ExecuteTime": {
     "end_time": "2019-07-21T13:27:48.328861Z",
     "start_time": "2019-07-21T13:27:31.039614Z"
    }
   },
   "outputs": [
    {
     "name": "stdout",
     "output_type": "stream",
     "text": [
      "Fold 0 started at Sun Jul 21 18:57:31 2019\n",
      "Training until validation scores don't improve for 200 rounds.\n"
     ]
    },
    {
     "name": "stderr",
     "output_type": "stream",
     "text": [
      "/home/nilesh/anaconda3/envs/compete/lib/python3.7/site-packages/lightgbm/engine.py:118: UserWarning: Found `num_boost_round` in params. Will use it instead of argument\n",
      "  warnings.warn(\"Found `{}` in params. Will use it instead of argument\".format(alias))\n"
     ]
    },
    {
     "name": "stdout",
     "output_type": "stream",
     "text": [
      "[1000]\ttraining's rmse: 1.14819\tvalid_1's rmse: 1.17011\n",
      "[2000]\ttraining's rmse: 1.12764\tvalid_1's rmse: 1.16721\n",
      "Early stopping, best iteration is:\n",
      "[2456]\ttraining's rmse: 1.12029\tvalid_1's rmse: 1.1668\n",
      "Fold 1 started at Sun Jul 21 18:57:33 2019\n",
      "Training until validation scores don't improve for 200 rounds.\n"
     ]
    },
    {
     "name": "stderr",
     "output_type": "stream",
     "text": [
      "/home/nilesh/anaconda3/envs/compete/lib/python3.7/site-packages/lightgbm/engine.py:118: UserWarning: Found `num_boost_round` in params. Will use it instead of argument\n",
      "  warnings.warn(\"Found `{}` in params. Will use it instead of argument\".format(alias))\n"
     ]
    },
    {
     "name": "stdout",
     "output_type": "stream",
     "text": [
      "[1000]\ttraining's rmse: 1.14809\tvalid_1's rmse: 1.16865\n",
      "[2000]\ttraining's rmse: 1.12752\tvalid_1's rmse: 1.16536\n",
      "Early stopping, best iteration is:\n",
      "[2203]\ttraining's rmse: 1.12405\tvalid_1's rmse: 1.16519\n",
      "Fold 2 started at Sun Jul 21 18:57:36 2019\n",
      "Training until validation scores don't improve for 200 rounds.\n"
     ]
    },
    {
     "name": "stderr",
     "output_type": "stream",
     "text": [
      "/home/nilesh/anaconda3/envs/compete/lib/python3.7/site-packages/lightgbm/engine.py:118: UserWarning: Found `num_boost_round` in params. Will use it instead of argument\n",
      "  warnings.warn(\"Found `{}` in params. Will use it instead of argument\".format(alias))\n"
     ]
    },
    {
     "name": "stdout",
     "output_type": "stream",
     "text": [
      "[1000]\ttraining's rmse: 1.15114\tvalid_1's rmse: 1.15789\n",
      "[2000]\ttraining's rmse: 1.1308\tvalid_1's rmse: 1.15396\n",
      "Early stopping, best iteration is:\n",
      "[2556]\ttraining's rmse: 1.12192\tvalid_1's rmse: 1.15313\n",
      "Fold 3 started at Sun Jul 21 18:57:39 2019\n",
      "Training until validation scores don't improve for 200 rounds.\n"
     ]
    },
    {
     "name": "stderr",
     "output_type": "stream",
     "text": [
      "/home/nilesh/anaconda3/envs/compete/lib/python3.7/site-packages/lightgbm/engine.py:118: UserWarning: Found `num_boost_round` in params. Will use it instead of argument\n",
      "  warnings.warn(\"Found `{}` in params. Will use it instead of argument\".format(alias))\n"
     ]
    },
    {
     "name": "stdout",
     "output_type": "stream",
     "text": [
      "[1000]\ttraining's rmse: 1.14521\tvalid_1's rmse: 1.18154\n",
      "[2000]\ttraining's rmse: 1.12462\tvalid_1's rmse: 1.17853\n",
      "Early stopping, best iteration is:\n",
      "[2753]\ttraining's rmse: 1.11273\tvalid_1's rmse: 1.1782\n",
      "Fold 4 started at Sun Jul 21 18:57:43 2019\n",
      "Training until validation scores don't improve for 200 rounds.\n"
     ]
    },
    {
     "name": "stderr",
     "output_type": "stream",
     "text": [
      "/home/nilesh/anaconda3/envs/compete/lib/python3.7/site-packages/lightgbm/engine.py:118: UserWarning: Found `num_boost_round` in params. Will use it instead of argument\n",
      "  warnings.warn(\"Found `{}` in params. Will use it instead of argument\".format(alias))\n"
     ]
    },
    {
     "name": "stdout",
     "output_type": "stream",
     "text": [
      "[1000]\ttraining's rmse: 1.15042\tvalid_1's rmse: 1.16096\n",
      "[2000]\ttraining's rmse: 1.13008\tvalid_1's rmse: 1.15625\n",
      "[3000]\ttraining's rmse: 1.11439\tvalid_1's rmse: 1.15505\n",
      "[4000]\ttraining's rmse: 1.10047\tvalid_1's rmse: 1.15485\n",
      "Early stopping, best iteration is:\n",
      "[3866]\ttraining's rmse: 1.10229\tvalid_1's rmse: 1.1548\n",
      "CV mean score: 1.1636, std: 0.0091.\n"
     ]
    },
    {
     "data": {
      "image/png": "[encoded data removed]",
      "text/plain": [
       "<Figure size 1152x864 with 1 Axes>"
      ]
     },
     "metadata": {
      "needs_background": "light"
     },
     "output_type": "display_data"
    }
   ],
   "source": [
    "lgb_params = {'num_leaves': 10,\n",
    "        # 'min_data_in_leaf': 20,\n",
    "         'objective': 'regression',\n",
    "         'max_depth': 8,\n",
    "         'learning_rate': 0.005,\n",
    "         \"boosting\": \"gbdt\",\n",
    "         \"feature_fraction\": 0.8,\n",
    "         \"bagging_freq\": 1,\n",
    "         \"bagging_fraction\": 0.9,\n",
    "        'num_boost_round':15000,\n",
    "        #  \"bagging_seed\": 11,\n",
    "         \"metric\": 'rmse',\n",
    "        # \"lambda_l1\": 0.2,\n",
    "         \"verbosity\": -1}\n",
    "oof_lgb_1, prediction_lgb_1, prediction_lgb_train, feature_importance = train_model(X, test_1, y, params=lgb_params, model_type='lgb', plot_feature_importance=True)"
   ]
  },
  {
   "cell_type": "code",
   "execution_count": null,
   "metadata": {},
   "outputs": [],
   "source": []
  },
  {
   "cell_type": "code",
   "execution_count": 51,
   "metadata": {
    "ExecuteTime": {
     "end_time": "2019-07-21T11:08:41.266215Z",
     "start_time": "2019-07-21T11:08:41.260695Z"
    }
   },
   "outputs": [],
   "source": [
    "from sklearn import linear_model\n",
    "from sklearn.svm import LinearSVR\n",
    "from sklearn.ensemble import RandomForestRegressor,  GradientBoostingRegressor\n",
    "from sklearn.kernel_ridge import KernelRidge\n",
    "from sklearn.pipeline import make_pipeline\n",
    "from sklearn.preprocessing import RobustScaler\n",
    "from sklearn.base import BaseEstimator, TransformerMixin, RegressorMixin, clone\n",
    "from sklearn.model_selection import KFold, cross_val_score, train_test_split\n",
    "from sklearn.metrics import mean_squared_error"
   ]
  },
  {
   "cell_type": "code",
   "execution_count": null,
   "metadata": {},
   "outputs": [],
   "source": []
  },
  {
   "cell_type": "code",
   "execution_count": 84,
   "metadata": {
    "ExecuteTime": {
     "end_time": "2019-07-21T12:21:43.441192Z",
     "start_time": "2019-07-21T12:21:42.270913Z"
    }
   },
   "outputs": [
    {
     "name": "stdout",
     "output_type": "stream",
     "text": [
      "Fold 0 started at Sun Jul 21 17:51:42 2019\n",
      "Fold 1 started at Sun Jul 21 17:51:42 2019\n",
      "Fold 2 started at Sun Jul 21 17:51:42 2019\n",
      "Fold 3 started at Sun Jul 21 17:51:42 2019\n",
      "Fold 4 started at Sun Jul 21 17:51:43 2019\n",
      "CV mean score: 1.2464, std: 0.0118.\n"
     ]
    }
   ],
   "source": [
    "oof_lasso_1, prediction_lasso_1, prediction_lasso_train = train_model(X.values, test_1.values, y.values, params=None, folds=folds, model_type='sklearn', plot_feature_importance=False, model=linear_model.Lasso())"
   ]
  },
  {
   "cell_type": "code",
   "execution_count": 85,
   "metadata": {
    "ExecuteTime": {
     "end_time": "2019-07-21T12:21:48.500488Z",
     "start_time": "2019-07-21T12:21:45.741126Z"
    }
   },
   "outputs": [
    {
     "name": "stdout",
     "output_type": "stream",
     "text": [
      "Fold 0 started at Sun Jul 21 17:51:45 2019\n",
      "Fold 1 started at Sun Jul 21 17:51:46 2019\n",
      "Fold 2 started at Sun Jul 21 17:51:46 2019\n",
      "Fold 3 started at Sun Jul 21 17:51:47 2019\n",
      "Fold 4 started at Sun Jul 21 17:51:47 2019\n",
      "CV mean score: 7.2444, std: 1.9293.\n"
     ]
    }
   ],
   "source": [
    "oof_huber_1, prediction_huber_1, prediction_huber_train = train_model(X.values, test_1.values, y.values, params=None, folds=folds, model_type='sklearn', plot_feature_importance=False, model=linear_model.HuberRegressor())"
   ]
  },
  {
   "cell_type": "code",
   "execution_count": 86,
   "metadata": {
    "ExecuteTime": {
     "end_time": "2019-07-21T12:21:49.949649Z",
     "start_time": "2019-07-21T12:21:49.787666Z"
    }
   },
   "outputs": [
    {
     "name": "stdout",
     "output_type": "stream",
     "text": [
      "Fold 0 started at Sun Jul 21 17:51:49 2019\n",
      "Fold 1 started at Sun Jul 21 17:51:49 2019\n",
      "Fold 2 started at Sun Jul 21 17:51:49 2019\n",
      "Fold 3 started at Sun Jul 21 17:51:49 2019\n",
      "Fold 4 started at Sun Jul 21 17:51:49 2019\n",
      "CV mean score: 1.1870, std: 0.0056.\n"
     ]
    }
   ],
   "source": [
    "oof_huber_1, prediction_LR_1, prediction_LR_train = train_model(X.values, test_1.values, y.values, params=None, folds=folds, model_type='sklearn', plot_feature_importance=False, model=linear_model.LinearRegression())"
   ]
  },
  {
   "cell_type": "code",
   "execution_count": 87,
   "metadata": {
    "ExecuteTime": {
     "end_time": "2019-07-21T12:21:56.176614Z",
     "start_time": "2019-07-21T12:21:56.171190Z"
    }
   },
   "outputs": [],
   "source": [
    "#oof_huber_1, prediction_RR_1 = train_model(X.values, test_1.values, y.values, params=None, folds=folds, model_type='sklearn', plot_feature_importance=False, model=linear_model.ridge_regression())"
   ]
  },
  {
   "cell_type": "code",
   "execution_count": 88,
   "metadata": {
    "ExecuteTime": {
     "end_time": "2019-07-21T12:22:14.764541Z",
     "start_time": "2019-07-21T12:21:57.231320Z"
    },
    "scrolled": true
   },
   "outputs": [
    {
     "name": "stdout",
     "output_type": "stream",
     "text": [
      "Fold 0 started at Sun Jul 21 17:51:57 2019\n"
     ]
    },
    {
     "name": "stderr",
     "output_type": "stream",
     "text": [
      "/home/nilesh/anaconda3/envs/compete/lib/python3.7/site-packages/sklearn/svm/base.py:929: ConvergenceWarning: Liblinear failed to converge, increase the number of iterations.\n",
      "  \"the number of iterations.\", ConvergenceWarning)\n"
     ]
    },
    {
     "name": "stdout",
     "output_type": "stream",
     "text": [
      "Fold 1 started at Sun Jul 21 17:52:00 2019\n"
     ]
    },
    {
     "name": "stderr",
     "output_type": "stream",
     "text": [
      "/home/nilesh/anaconda3/envs/compete/lib/python3.7/site-packages/sklearn/svm/base.py:929: ConvergenceWarning: Liblinear failed to converge, increase the number of iterations.\n",
      "  \"the number of iterations.\", ConvergenceWarning)\n"
     ]
    },
    {
     "name": "stdout",
     "output_type": "stream",
     "text": [
      "Fold 2 started at Sun Jul 21 17:52:04 2019\n"
     ]
    },
    {
     "name": "stderr",
     "output_type": "stream",
     "text": [
      "/home/nilesh/anaconda3/envs/compete/lib/python3.7/site-packages/sklearn/svm/base.py:929: ConvergenceWarning: Liblinear failed to converge, increase the number of iterations.\n",
      "  \"the number of iterations.\", ConvergenceWarning)\n"
     ]
    },
    {
     "name": "stdout",
     "output_type": "stream",
     "text": [
      "Fold 3 started at Sun Jul 21 17:52:07 2019\n"
     ]
    },
    {
     "name": "stderr",
     "output_type": "stream",
     "text": [
      "/home/nilesh/anaconda3/envs/compete/lib/python3.7/site-packages/sklearn/svm/base.py:929: ConvergenceWarning: Liblinear failed to converge, increase the number of iterations.\n",
      "  \"the number of iterations.\", ConvergenceWarning)\n"
     ]
    },
    {
     "name": "stdout",
     "output_type": "stream",
     "text": [
      "Fold 4 started at Sun Jul 21 17:52:11 2019\n",
      "CV mean score: 17.3328, std: 8.0814.\n"
     ]
    },
    {
     "name": "stderr",
     "output_type": "stream",
     "text": [
      "/home/nilesh/anaconda3/envs/compete/lib/python3.7/site-packages/sklearn/svm/base.py:929: ConvergenceWarning: Liblinear failed to converge, increase the number of iterations.\n",
      "  \"the number of iterations.\", ConvergenceWarning)\n"
     ]
    }
   ],
   "source": [
    "oof_svr_1, prediction_svr_1, prediction_svr_train = train_model(X.values, test_1.values, y.values, params=None, folds=folds, model_type='sklearn', plot_feature_importance=False, model=LinearSVR())"
   ]
  },
  {
   "cell_type": "code",
   "execution_count": 89,
   "metadata": {
    "ExecuteTime": {
     "end_time": "2019-07-21T12:27:23.738841Z",
     "start_time": "2019-07-21T12:22:46.889770Z"
    }
   },
   "outputs": [
    {
     "name": "stdout",
     "output_type": "stream",
     "text": [
      "Fold 0 started at Sun Jul 21 17:52:46 2019\n",
      "Fold 1 started at Sun Jul 21 17:53:41 2019\n",
      "Fold 2 started at Sun Jul 21 17:54:36 2019\n",
      "Fold 3 started at Sun Jul 21 17:55:32 2019\n",
      "Fold 4 started at Sun Jul 21 17:56:28 2019\n",
      "CV mean score: 1.1784, std: 0.0087.\n"
     ]
    }
   ],
   "source": [
    "oof_svr_1, prediction_GBR_1, prediction_GBR_train = train_model(X.values, test_1.values, y.values, params=None, folds=folds, model_type='sklearn', plot_feature_importance=False,\\\n",
    "                                          model=GradientBoostingRegressor(n_estimators=3000, learning_rate=0.03,\n",
    "                                   max_depth=5, max_features='sqrt',\n",
    "                                   min_samples_leaf=15, min_samples_split=10, \n",
    "                                   loss='huber', random_state =5))"
   ]
  },
  {
   "cell_type": "code",
   "execution_count": 90,
   "metadata": {
    "ExecuteTime": {
     "end_time": "2019-07-21T12:27:51.358691Z",
     "start_time": "2019-07-21T12:27:28.985460Z"
    }
   },
   "outputs": [
    {
     "name": "stdout",
     "output_type": "stream",
     "text": [
      "Fold 0 started at Sun Jul 21 17:57:28 2019\n",
      "Fold 1 started at Sun Jul 21 17:57:33 2019\n",
      "Fold 2 started at Sun Jul 21 17:57:37 2019\n",
      "Fold 3 started at Sun Jul 21 17:57:42 2019\n",
      "Fold 4 started at Sun Jul 21 17:57:46 2019\n",
      "CV mean score: 1.2239, std: 0.0105.\n"
     ]
    }
   ],
   "source": [
    "oof_svr_1, prediction_RFR_1, prediction_RFR_train = train_model(X.values, test_1.values, y.values, params=None, folds=folds, model_type='sklearn', plot_feature_importance=False,\\\n",
    "                                          model=RandomForestRegressor(bootstrap=True, criterion='mse', max_depth=2,\n",
    "           max_features='auto', max_leaf_nodes=None,\n",
    "           min_impurity_decrease=0.0, min_impurity_split=None,\n",
    "           min_samples_leaf=1, min_samples_split=2,\n",
    "           min_weight_fraction_leaf=0.0, n_estimators=100, n_jobs=None,\n",
    "           oob_score=False, random_state=0, verbose=0, warm_start=False))"
   ]
  },
  {
   "cell_type": "code",
   "execution_count": 311,
   "metadata": {
    "ExecuteTime": {
     "end_time": "2019-07-21T14:52:57.143620Z",
     "start_time": "2019-07-21T14:52:57.133041Z"
    }
   },
   "outputs": [],
   "source": [
    "df_stacked = pd.DataFrame()\n",
    "df_stacked['prediction_lgb_1'] = prediction_lgb_train\n",
    "df_stacked['prediction_xgb_1'] = prediction_xgb_train\n",
    "df_stacked['prediction_lasso_1'] = prediction_lasso_train\n",
    "df_stacked['prediction_huber_1'] = prediction_huber_train\n",
    "df_stacked['prediction_GBR_1'] = prediction_GBR_train\n",
    "df_stacked['prediction_RFR_1'] = prediction_RFR_train \n",
    "df_stacked['prediction_LR_1'] = prediction_LR_train"
   ]
  },
  {
   "cell_type": "code",
   "execution_count": 260,
   "metadata": {
    "ExecuteTime": {
     "end_time": "2019-07-21T14:02:35.875807Z",
     "start_time": "2019-07-21T14:02:35.872857Z"
    }
   },
   "outputs": [
    {
     "data": {
      "text/plain": [
       "((32820, 7), (32820,))"
      ]
     },
     "execution_count": 260,
     "metadata": {},
     "output_type": "execute_result"
    }
   ],
   "source": [
    "df_stacked.shape, y.shape"
   ]
  },
  {
   "cell_type": "code",
   "execution_count": null,
   "metadata": {},
   "outputs": [],
   "source": []
  },
  {
   "cell_type": "code",
   "execution_count": 312,
   "metadata": {
    "ExecuteTime": {
     "end_time": "2019-07-21T14:53:01.167229Z",
     "start_time": "2019-07-21T14:53:01.162876Z"
    }
   },
   "outputs": [],
   "source": [
    "X_e = df_stacked\n",
    "y_e = train_1[\"cc_cons\"]\n",
    "# X_e_train, X_e_test, y_e_train, y_e_test = model_selection.train_test_split(X_e, y_e, test_size=0.10)"
   ]
  },
  {
   "cell_type": "code",
   "execution_count": 277,
   "metadata": {
    "ExecuteTime": {
     "end_time": "2019-07-21T14:05:58.718611Z",
     "start_time": "2019-07-21T14:05:58.715255Z"
    }
   },
   "outputs": [
    {
     "data": {
      "text/plain": [
       "(3282, 7)"
      ]
     },
     "execution_count": 277,
     "metadata": {},
     "output_type": "execute_result"
    }
   ],
   "source": [
    "X_e_test.shape"
   ]
  },
  {
   "cell_type": "code",
   "execution_count": 278,
   "metadata": {
    "ExecuteTime": {
     "end_time": "2019-07-21T14:05:59.187397Z",
     "start_time": "2019-07-21T14:05:59.185109Z"
    }
   },
   "outputs": [
    {
     "data": {
      "text/plain": [
       "(3282,)"
      ]
     },
     "execution_count": 278,
     "metadata": {},
     "output_type": "execute_result"
    }
   ],
   "source": [
    "y_e_test.shape"
   ]
  },
  {
   "cell_type": "code",
   "execution_count": 317,
   "metadata": {
    "ExecuteTime": {
     "end_time": "2019-07-21T15:01:41.808291Z",
     "start_time": "2019-07-21T15:01:11.109457Z"
    },
    "scrolled": true
   },
   "outputs": [
    {
     "name": "stdout",
     "output_type": "stream",
     "text": [
      "Fold 0 started at Sun Jul 21 20:31:11 2019\n",
      "Training until validation scores don't improve for 200 rounds.\n"
     ]
    },
    {
     "name": "stderr",
     "output_type": "stream",
     "text": [
      "/home/nilesh/anaconda3/envs/compete/lib/python3.7/site-packages/lightgbm/engine.py:118: UserWarning: Found `num_iterations` in params. Will use it instead of argument\n",
      "  warnings.warn(\"Found `{}` in params. Will use it instead of argument\".format(alias))\n"
     ]
    },
    {
     "name": "stdout",
     "output_type": "stream",
     "text": [
      "[1000]\ttraining's l2: 0.826619\ttraining's rmse: 0.909186\tvalid_1's l2: 0.843357\tvalid_1's rmse: 0.918345\n",
      "[2000]\ttraining's l2: 0.691159\ttraining's rmse: 0.83136\tvalid_1's l2: 0.706846\tvalid_1's rmse: 0.840741\n",
      "[3000]\ttraining's l2: 0.624062\ttraining's rmse: 0.789976\tvalid_1's l2: 0.639338\tvalid_1's rmse: 0.799586\n",
      "[4000]\ttraining's l2: 0.588113\ttraining's rmse: 0.766885\tvalid_1's l2: 0.602852\tvalid_1's rmse: 0.776435\n",
      "[5000]\ttraining's l2: 0.564949\ttraining's rmse: 0.751631\tvalid_1's l2: 0.580216\tvalid_1's rmse: 0.761719\n",
      "[6000]\ttraining's l2: 0.548643\ttraining's rmse: 0.740704\tvalid_1's l2: 0.564062\tvalid_1's rmse: 0.751041\n",
      "[7000]\ttraining's l2: 0.535677\ttraining's rmse: 0.7319\tvalid_1's l2: 0.551377\tvalid_1's rmse: 0.742548\n",
      "[8000]\ttraining's l2: 0.526347\ttraining's rmse: 0.725498\tvalid_1's l2: 0.542347\tvalid_1's rmse: 0.736442\n",
      "[9000]\ttraining's l2: 0.518369\ttraining's rmse: 0.719978\tvalid_1's l2: 0.534497\tvalid_1's rmse: 0.731093\n",
      "[10000]\ttraining's l2: 0.511316\ttraining's rmse: 0.715063\tvalid_1's l2: 0.527777\tvalid_1's rmse: 0.726482\n",
      "[11000]\ttraining's l2: 0.504883\ttraining's rmse: 0.710551\tvalid_1's l2: 0.52136\tvalid_1's rmse: 0.722053\n",
      "[12000]\ttraining's l2: 0.499627\ttraining's rmse: 0.706843\tvalid_1's l2: 0.516407\tvalid_1's rmse: 0.718614\n",
      "[13000]\ttraining's l2: 0.494558\ttraining's rmse: 0.703248\tvalid_1's l2: 0.51129\tvalid_1's rmse: 0.715046\n",
      "[14000]\ttraining's l2: 0.490161\ttraining's rmse: 0.700115\tvalid_1's l2: 0.506956\tvalid_1's rmse: 0.712008\n",
      "[15000]\ttraining's l2: 0.486494\ttraining's rmse: 0.697491\tvalid_1's l2: 0.503361\tvalid_1's rmse: 0.709479\n",
      "[16000]\ttraining's l2: 0.48249\ttraining's rmse: 0.694615\tvalid_1's l2: 0.499436\tvalid_1's rmse: 0.706708\n",
      "[17000]\ttraining's l2: 0.478997\ttraining's rmse: 0.692096\tvalid_1's l2: 0.495927\tvalid_1's rmse: 0.704221\n",
      "[18000]\ttraining's l2: 0.476074\ttraining's rmse: 0.689981\tvalid_1's l2: 0.493105\tvalid_1's rmse: 0.702214\n",
      "[19000]\ttraining's l2: 0.473225\ttraining's rmse: 0.687913\tvalid_1's l2: 0.490253\tvalid_1's rmse: 0.700181\n",
      "[20000]\ttraining's l2: 0.470769\ttraining's rmse: 0.686126\tvalid_1's l2: 0.487845\tvalid_1's rmse: 0.698459\n",
      "[21000]\ttraining's l2: 0.468436\ttraining's rmse: 0.684424\tvalid_1's l2: 0.485525\tvalid_1's rmse: 0.696796\n",
      "[22000]\ttraining's l2: 0.466206\ttraining's rmse: 0.682793\tvalid_1's l2: 0.483328\tvalid_1's rmse: 0.695218\n",
      "[23000]\ttraining's l2: 0.464105\ttraining's rmse: 0.681252\tvalid_1's l2: 0.481304\tvalid_1's rmse: 0.693761\n",
      "[24000]\ttraining's l2: 0.462354\ttraining's rmse: 0.679966\tvalid_1's l2: 0.479418\tvalid_1's rmse: 0.6924\n",
      "[25000]\ttraining's l2: 0.46054\ttraining's rmse: 0.678631\tvalid_1's l2: 0.477547\tvalid_1's rmse: 0.691048\n",
      "[26000]\ttraining's l2: 0.458746\ttraining's rmse: 0.677308\tvalid_1's l2: 0.475744\tvalid_1's rmse: 0.689742\n",
      "[27000]\ttraining's l2: 0.457186\ttraining's rmse: 0.676156\tvalid_1's l2: 0.474202\tvalid_1's rmse: 0.688623\n",
      "[28000]\ttraining's l2: 0.45584\ttraining's rmse: 0.675159\tvalid_1's l2: 0.473026\tvalid_1's rmse: 0.687769\n",
      "[29000]\ttraining's l2: 0.454475\ttraining's rmse: 0.674148\tvalid_1's l2: 0.471611\tvalid_1's rmse: 0.68674\n",
      "[30000]\ttraining's l2: 0.45332\ttraining's rmse: 0.67329\tvalid_1's l2: 0.470452\tvalid_1's rmse: 0.685895\n",
      "[31000]\ttraining's l2: 0.452147\ttraining's rmse: 0.672419\tvalid_1's l2: 0.469289\tvalid_1's rmse: 0.685047\n",
      "[32000]\ttraining's l2: 0.451074\ttraining's rmse: 0.67162\tvalid_1's l2: 0.468259\tvalid_1's rmse: 0.684295\n",
      "[33000]\ttraining's l2: 0.450054\ttraining's rmse: 0.670861\tvalid_1's l2: 0.46713\tvalid_1's rmse: 0.683469\n",
      "[34000]\ttraining's l2: 0.44913\ttraining's rmse: 0.670172\tvalid_1's l2: 0.466326\tvalid_1's rmse: 0.682881\n",
      "[35000]\ttraining's l2: 0.448252\ttraining's rmse: 0.669517\tvalid_1's l2: 0.465544\tvalid_1's rmse: 0.682308\n",
      "[36000]\ttraining's l2: 0.447429\ttraining's rmse: 0.668901\tvalid_1's l2: 0.464699\tvalid_1's rmse: 0.681689\n",
      "[37000]\ttraining's l2: 0.446531\ttraining's rmse: 0.66823\tvalid_1's l2: 0.463696\tvalid_1's rmse: 0.680952\n",
      "[38000]\ttraining's l2: 0.445724\ttraining's rmse: 0.667626\tvalid_1's l2: 0.462905\tvalid_1's rmse: 0.680372\n",
      "[39000]\ttraining's l2: 0.445003\ttraining's rmse: 0.667085\tvalid_1's l2: 0.462225\tvalid_1's rmse: 0.679871\n",
      "[40000]\ttraining's l2: 0.444301\ttraining's rmse: 0.666559\tvalid_1's l2: 0.461559\tvalid_1's rmse: 0.679381\n",
      "[41000]\ttraining's l2: 0.443643\ttraining's rmse: 0.666065\tvalid_1's l2: 0.460894\tvalid_1's rmse: 0.678892\n",
      "[42000]\ttraining's l2: 0.443014\ttraining's rmse: 0.665593\tvalid_1's l2: 0.460179\tvalid_1's rmse: 0.678365\n",
      "[43000]\ttraining's l2: 0.442443\ttraining's rmse: 0.665164\tvalid_1's l2: 0.45961\tvalid_1's rmse: 0.677945\n",
      "[44000]\ttraining's l2: 0.441901\ttraining's rmse: 0.664756\tvalid_1's l2: 0.459145\tvalid_1's rmse: 0.677602\n",
      "Early stopping, best iteration is:\n",
      "[44070]\ttraining's l2: 0.441858\ttraining's rmse: 0.664724\tvalid_1's l2: 0.459013\tvalid_1's rmse: 0.677505\n"
     ]
    },
    {
     "ename": "KeyboardInterrupt",
     "evalue": "",
     "output_type": "error",
     "traceback": [
      "\u001b[0;31m---------------------------------------------------------------------------\u001b[0m",
      "\u001b[0;31mKeyboardInterrupt\u001b[0m                         Traceback (most recent call last)",
      "\u001b[0;32m<ipython-input-317-b2abc636a0f3>\u001b[0m in \u001b[0;36m<module>\u001b[0;34m\u001b[0m\n\u001b[1;32m     23\u001b[0m \u001b[0;31m#                     verbose=1000, early_stopping_rounds=200)\u001b[0m\u001b[0;34m\u001b[0m\u001b[0;34m\u001b[0m\u001b[0;34m\u001b[0m\u001b[0m\n\u001b[1;32m     24\u001b[0m \u001b[0;34m\u001b[0m\u001b[0m\n\u001b[0;32m---> 25\u001b[0;31m \u001b[0m_\u001b[0m\u001b[0;34m,\u001b[0m \u001b[0mpredictions\u001b[0m\u001b[0;34m,\u001b[0m \u001b[0m__\u001b[0m\u001b[0;34m,\u001b[0m \u001b[0m___\u001b[0m \u001b[0;34m=\u001b[0m \u001b[0mtrain_model\u001b[0m\u001b[0;34m(\u001b[0m\u001b[0mX_e\u001b[0m\u001b[0;34m,\u001b[0m \u001b[0mpredictions_stack\u001b[0m\u001b[0;34m.\u001b[0m\u001b[0mT\u001b[0m\u001b[0;34m,\u001b[0m \u001b[0my_e\u001b[0m\u001b[0;34m,\u001b[0m \u001b[0mparams\u001b[0m\u001b[0;34m=\u001b[0m\u001b[0mlgb_params_ens\u001b[0m\u001b[0;34m,\u001b[0m \u001b[0mmodel_type\u001b[0m\u001b[0;34m=\u001b[0m\u001b[0;34m'lgb'\u001b[0m\u001b[0;34m,\u001b[0m \u001b[0mplot_feature_importance\u001b[0m\u001b[0;34m=\u001b[0m\u001b[0;32mTrue\u001b[0m\u001b[0;34m)\u001b[0m\u001b[0;34m\u001b[0m\u001b[0;34m\u001b[0m\u001b[0m\n\u001b[0m",
      "\u001b[0;32m<ipython-input-82-53f299aa5726>\u001b[0m in \u001b[0;36mtrain_model\u001b[0;34m(X, X_test, y, params, folds, model_type, plot_feature_importance, model)\u001b[0m\n\u001b[1;32m     22\u001b[0m             \u001b[0my_pred_valid\u001b[0m \u001b[0;34m=\u001b[0m \u001b[0mmodel\u001b[0m\u001b[0;34m.\u001b[0m\u001b[0mpredict\u001b[0m\u001b[0;34m(\u001b[0m\u001b[0mX_valid\u001b[0m\u001b[0;34m)\u001b[0m\u001b[0;34m\u001b[0m\u001b[0;34m\u001b[0m\u001b[0m\n\u001b[1;32m     23\u001b[0m             \u001b[0my_pred\u001b[0m \u001b[0;34m=\u001b[0m \u001b[0mmodel\u001b[0m\u001b[0;34m.\u001b[0m\u001b[0mpredict\u001b[0m\u001b[0;34m(\u001b[0m\u001b[0mX_test\u001b[0m\u001b[0;34m,\u001b[0m \u001b[0mnum_iteration\u001b[0m\u001b[0;34m=\u001b[0m\u001b[0mmodel\u001b[0m\u001b[0;34m.\u001b[0m\u001b[0mbest_iteration_\u001b[0m\u001b[0;34m)\u001b[0m\u001b[0;34m\u001b[0m\u001b[0;34m\u001b[0m\u001b[0m\n\u001b[0;32m---> 24\u001b[0;31m             \u001b[0my_pred_train\u001b[0m \u001b[0;34m=\u001b[0m \u001b[0mmodel\u001b[0m\u001b[0;34m.\u001b[0m\u001b[0mpredict\u001b[0m\u001b[0;34m(\u001b[0m\u001b[0mX\u001b[0m\u001b[0;34m,\u001b[0m \u001b[0mnum_iteration\u001b[0m\u001b[0;34m=\u001b[0m\u001b[0mmodel\u001b[0m\u001b[0;34m.\u001b[0m\u001b[0mbest_iteration_\u001b[0m\u001b[0;34m)\u001b[0m\u001b[0;34m\u001b[0m\u001b[0;34m\u001b[0m\u001b[0m\n\u001b[0m\u001b[1;32m     25\u001b[0m \u001b[0;34m\u001b[0m\u001b[0m\n\u001b[1;32m     26\u001b[0m         \u001b[0;32mif\u001b[0m \u001b[0mmodel_type\u001b[0m \u001b[0;34m==\u001b[0m \u001b[0;34m'xgb'\u001b[0m\u001b[0;34m:\u001b[0m\u001b[0;34m\u001b[0m\u001b[0;34m\u001b[0m\u001b[0m\n",
      "\u001b[0;32m~/anaconda3/envs/compete/lib/python3.7/site-packages/lightgbm/sklearn.py\u001b[0m in \u001b[0;36mpredict\u001b[0;34m(self, X, raw_score, num_iteration, pred_leaf, pred_contrib, **kwargs)\u001b[0m\n\u001b[1;32m    605\u001b[0m                              % (self._n_features, n_features))\n\u001b[1;32m    606\u001b[0m         return self.booster_.predict(X, raw_score=raw_score, num_iteration=num_iteration,\n\u001b[0;32m--> 607\u001b[0;31m                                      pred_leaf=pred_leaf, pred_contrib=pred_contrib, **kwargs)\n\u001b[0m\u001b[1;32m    608\u001b[0m \u001b[0;34m\u001b[0m\u001b[0m\n\u001b[1;32m    609\u001b[0m     \u001b[0;34m@\u001b[0m\u001b[0mproperty\u001b[0m\u001b[0;34m\u001b[0m\u001b[0;34m\u001b[0m\u001b[0m\n",
      "\u001b[0;32m~/anaconda3/envs/compete/lib/python3.7/site-packages/lightgbm/basic.py\u001b[0m in \u001b[0;36mpredict\u001b[0;34m(self, data, num_iteration, raw_score, pred_leaf, pred_contrib, data_has_header, is_reshape, **kwargs)\u001b[0m\n\u001b[1;32m   2201\u001b[0m         return predictor.predict(data, num_iteration,\n\u001b[1;32m   2202\u001b[0m                                  \u001b[0mraw_score\u001b[0m\u001b[0;34m,\u001b[0m \u001b[0mpred_leaf\u001b[0m\u001b[0;34m,\u001b[0m \u001b[0mpred_contrib\u001b[0m\u001b[0;34m,\u001b[0m\u001b[0;34m\u001b[0m\u001b[0;34m\u001b[0m\u001b[0m\n\u001b[0;32m-> 2203\u001b[0;31m                                  data_has_header, is_reshape)\n\u001b[0m\u001b[1;32m   2204\u001b[0m \u001b[0;34m\u001b[0m\u001b[0m\n\u001b[1;32m   2205\u001b[0m     \u001b[0;32mdef\u001b[0m \u001b[0mrefit\u001b[0m\u001b[0;34m(\u001b[0m\u001b[0mself\u001b[0m\u001b[0;34m,\u001b[0m \u001b[0mdata\u001b[0m\u001b[0;34m,\u001b[0m \u001b[0mlabel\u001b[0m\u001b[0;34m,\u001b[0m \u001b[0mdecay_rate\u001b[0m\u001b[0;34m=\u001b[0m\u001b[0;36m0.9\u001b[0m\u001b[0;34m,\u001b[0m \u001b[0;34m**\u001b[0m\u001b[0mkwargs\u001b[0m\u001b[0;34m)\u001b[0m\u001b[0;34m:\u001b[0m\u001b[0;34m\u001b[0m\u001b[0;34m\u001b[0m\u001b[0m\n",
      "\u001b[0;32m~/anaconda3/envs/compete/lib/python3.7/site-packages/lightgbm/basic.py\u001b[0m in \u001b[0;36mpredict\u001b[0;34m(self, data, num_iteration, raw_score, pred_leaf, pred_contrib, data_has_header, is_reshape)\u001b[0m\n\u001b[1;32m    465\u001b[0m             \u001b[0mpreds\u001b[0m\u001b[0;34m,\u001b[0m \u001b[0mnrow\u001b[0m \u001b[0;34m=\u001b[0m \u001b[0mself\u001b[0m\u001b[0;34m.\u001b[0m\u001b[0m__pred_for_csc\u001b[0m\u001b[0;34m(\u001b[0m\u001b[0mdata\u001b[0m\u001b[0;34m,\u001b[0m \u001b[0mnum_iteration\u001b[0m\u001b[0;34m,\u001b[0m \u001b[0mpredict_type\u001b[0m\u001b[0;34m)\u001b[0m\u001b[0;34m\u001b[0m\u001b[0;34m\u001b[0m\u001b[0m\n\u001b[1;32m    466\u001b[0m         \u001b[0;32melif\u001b[0m \u001b[0misinstance\u001b[0m\u001b[0;34m(\u001b[0m\u001b[0mdata\u001b[0m\u001b[0;34m,\u001b[0m \u001b[0mnp\u001b[0m\u001b[0;34m.\u001b[0m\u001b[0mndarray\u001b[0m\u001b[0;34m)\u001b[0m\u001b[0;34m:\u001b[0m\u001b[0;34m\u001b[0m\u001b[0;34m\u001b[0m\u001b[0m\n\u001b[0;32m--> 467\u001b[0;31m             \u001b[0mpreds\u001b[0m\u001b[0;34m,\u001b[0m \u001b[0mnrow\u001b[0m \u001b[0;34m=\u001b[0m \u001b[0mself\u001b[0m\u001b[0;34m.\u001b[0m\u001b[0m__pred_for_np2d\u001b[0m\u001b[0;34m(\u001b[0m\u001b[0mdata\u001b[0m\u001b[0;34m,\u001b[0m \u001b[0mnum_iteration\u001b[0m\u001b[0;34m,\u001b[0m \u001b[0mpredict_type\u001b[0m\u001b[0;34m)\u001b[0m\u001b[0;34m\u001b[0m\u001b[0;34m\u001b[0m\u001b[0m\n\u001b[0m\u001b[1;32m    468\u001b[0m         \u001b[0;32melif\u001b[0m \u001b[0misinstance\u001b[0m\u001b[0;34m(\u001b[0m\u001b[0mdata\u001b[0m\u001b[0;34m,\u001b[0m \u001b[0mlist\u001b[0m\u001b[0;34m)\u001b[0m\u001b[0;34m:\u001b[0m\u001b[0;34m\u001b[0m\u001b[0;34m\u001b[0m\u001b[0m\n\u001b[1;32m    469\u001b[0m             \u001b[0;32mtry\u001b[0m\u001b[0;34m:\u001b[0m\u001b[0;34m\u001b[0m\u001b[0;34m\u001b[0m\u001b[0m\n",
      "\u001b[0;32m~/anaconda3/envs/compete/lib/python3.7/site-packages/lightgbm/basic.py\u001b[0m in \u001b[0;36m__pred_for_np2d\u001b[0;34m(self, mat, num_iteration, predict_type)\u001b[0m\n\u001b[1;32m    554\u001b[0m             \u001b[0;32mreturn\u001b[0m \u001b[0mpreds\u001b[0m\u001b[0;34m,\u001b[0m \u001b[0mnrow\u001b[0m\u001b[0;34m\u001b[0m\u001b[0;34m\u001b[0m\u001b[0m\n\u001b[1;32m    555\u001b[0m         \u001b[0;32melse\u001b[0m\u001b[0;34m:\u001b[0m\u001b[0;34m\u001b[0m\u001b[0;34m\u001b[0m\u001b[0m\n\u001b[0;32m--> 556\u001b[0;31m             \u001b[0;32mreturn\u001b[0m \u001b[0minner_predict\u001b[0m\u001b[0;34m(\u001b[0m\u001b[0mmat\u001b[0m\u001b[0;34m,\u001b[0m \u001b[0mnum_iteration\u001b[0m\u001b[0;34m,\u001b[0m \u001b[0mpredict_type\u001b[0m\u001b[0;34m)\u001b[0m\u001b[0;34m\u001b[0m\u001b[0;34m\u001b[0m\u001b[0m\n\u001b[0m\u001b[1;32m    557\u001b[0m \u001b[0;34m\u001b[0m\u001b[0m\n\u001b[1;32m    558\u001b[0m     \u001b[0;32mdef\u001b[0m \u001b[0m__pred_for_csr\u001b[0m\u001b[0;34m(\u001b[0m\u001b[0mself\u001b[0m\u001b[0;34m,\u001b[0m \u001b[0mcsr\u001b[0m\u001b[0;34m,\u001b[0m \u001b[0mnum_iteration\u001b[0m\u001b[0;34m,\u001b[0m \u001b[0mpredict_type\u001b[0m\u001b[0;34m)\u001b[0m\u001b[0;34m:\u001b[0m\u001b[0;34m\u001b[0m\u001b[0;34m\u001b[0m\u001b[0m\n",
      "\u001b[0;32m~/anaconda3/envs/compete/lib/python3.7/site-packages/lightgbm/basic.py\u001b[0m in \u001b[0;36minner_predict\u001b[0;34m(mat, num_iteration, predict_type, preds)\u001b[0m\n\u001b[1;32m    536\u001b[0m                 \u001b[0mc_str\u001b[0m\u001b[0;34m(\u001b[0m\u001b[0mself\u001b[0m\u001b[0;34m.\u001b[0m\u001b[0mpred_parameter\u001b[0m\u001b[0;34m)\u001b[0m\u001b[0;34m,\u001b[0m\u001b[0;34m\u001b[0m\u001b[0;34m\u001b[0m\u001b[0m\n\u001b[1;32m    537\u001b[0m                 \u001b[0mctypes\u001b[0m\u001b[0;34m.\u001b[0m\u001b[0mbyref\u001b[0m\u001b[0;34m(\u001b[0m\u001b[0mout_num_preds\u001b[0m\u001b[0;34m)\u001b[0m\u001b[0;34m,\u001b[0m\u001b[0;34m\u001b[0m\u001b[0;34m\u001b[0m\u001b[0m\n\u001b[0;32m--> 538\u001b[0;31m                 preds.ctypes.data_as(ctypes.POINTER(ctypes.c_double))))\n\u001b[0m\u001b[1;32m    539\u001b[0m             \u001b[0;32mif\u001b[0m \u001b[0mn_preds\u001b[0m \u001b[0;34m!=\u001b[0m \u001b[0mout_num_preds\u001b[0m\u001b[0;34m.\u001b[0m\u001b[0mvalue\u001b[0m\u001b[0;34m:\u001b[0m\u001b[0;34m\u001b[0m\u001b[0;34m\u001b[0m\u001b[0m\n\u001b[1;32m    540\u001b[0m                 \u001b[0;32mraise\u001b[0m \u001b[0mValueError\u001b[0m\u001b[0;34m(\u001b[0m\u001b[0;34m\"Wrong length for predict results\"\u001b[0m\u001b[0;34m)\u001b[0m\u001b[0;34m\u001b[0m\u001b[0;34m\u001b[0m\u001b[0m\n",
      "\u001b[0;31mKeyboardInterrupt\u001b[0m: "
     ]
    }
   ],
   "source": [
    "# model_lgb = lgb.LGBMRegressor(objective='regression',num_leaves=3,\n",
    "#                               learning_rate=0.05, n_estimators=50000,\n",
    "#                               max_bin = 55, bagging_fraction = 0.8,\n",
    "#                               bagging_freq = 5, feature_fraction = 0.2319,\n",
    "#                               feature_fraction_seed=9, bagging_seed=9,\n",
    "#                               min_data_in_leaf =6, min_sum_hessian_in_leaf = 11)\n",
    "\n",
    "lgb_params_ens = {'objective':'regression',\n",
    "                  'num_leaves':6,\n",
    "                  'learning_rate':0.01,\n",
    "                  'num_iterations':50000,\n",
    "                  'max_bin' : 55,\n",
    "                  'bagging_fraction' : 0.8,\n",
    "                  'bagging_freq' : 5,\n",
    "                  'feature_fraction' : 0.2319,\n",
    "                  'feature_fraction_seed':9,\n",
    "                  'bagging_seed':9,\n",
    "                  'min_data_in_leaf' :6, 'min_sum_hessian_in_leaf' : 11}\n",
    "\n",
    "# model_lgb.fit(df_stacked, y)\n",
    "# model_lgb.fit(X_e_train, y_e_train,\n",
    "#               eval_set=[(X_e_train, y_e_train), (X_e_test, y_e_test)], eval_metric='rmse',\n",
    "#                     verbose=1000, early_stopping_rounds=200)\n",
    "\n",
    "_, predictions, __, ___ = train_model(X_e, predictions_stack.T, y_e, params=lgb_params_ens, model_type='lgb', plot_feature_importance=True)"
   ]
  },
  {
   "cell_type": "code",
   "execution_count": 296,
   "metadata": {
    "ExecuteTime": {
     "end_time": "2019-07-21T14:25:10.253780Z",
     "start_time": "2019-07-21T14:25:09.262105Z"
    }
   },
   "outputs": [],
   "source": [
    "predictions = model_lgb.predict(predictions_stack.T)"
   ]
  },
  {
   "cell_type": "code",
   "execution_count": 289,
   "metadata": {
    "ExecuteTime": {
     "end_time": "2019-07-21T14:21:56.231761Z",
     "start_time": "2019-07-21T14:21:56.221000Z"
    }
   },
   "outputs": [
    {
     "data": {
      "text/plain": [
       "(7, 14067)"
      ]
     },
     "execution_count": 289,
     "metadata": {},
     "output_type": "execute_result"
    }
   ],
   "source": [
    "predictions_stack"
   ]
  },
  {
   "cell_type": "code",
   "execution_count": null,
   "metadata": {},
   "outputs": [],
   "source": []
  },
  {
   "cell_type": "code",
   "execution_count": null,
   "metadata": {},
   "outputs": [],
   "source": []
  },
  {
   "cell_type": "code",
   "execution_count": 265,
   "metadata": {
    "ExecuteTime": {
     "end_time": "2019-07-21T14:02:45.671083Z",
     "start_time": "2019-07-21T14:02:45.665349Z"
    }
   },
   "outputs": [
    {
     "name": "stdout",
     "output_type": "stream",
     "text": [
      "Index(['prediction_lgb_1', 'prediction_xgb_1', 'prediction_lasso_1',\n",
      "       'prediction_huber_1', 'prediction_GBR_1', 'prediction_RFR_1',\n",
      "       'prediction_LR_1'],\n",
      "      dtype='object') [224 232 176 188 198 232 190]\n"
     ]
    }
   ],
   "source": [
    "print(df_stacked.columns , model_lgb.feature_importances_)"
   ]
  },
  {
   "cell_type": "code",
   "execution_count": 266,
   "metadata": {
    "ExecuteTime": {
     "end_time": "2019-07-21T14:02:47.140859Z",
     "start_time": "2019-07-21T14:02:47.135843Z"
    }
   },
   "outputs": [],
   "source": [
    "importance =  list(model_lgb.feature_importances_)\n",
    "average_importance = [val/sum(importance) for val in importance]\n",
    "    \n",
    "models = df_stacked.columns\n",
    "model_importance = dict(zip(models, (average_importance)))"
   ]
  },
  {
   "cell_type": "code",
   "execution_count": 267,
   "metadata": {
    "ExecuteTime": {
     "end_time": "2019-07-21T14:02:47.898922Z",
     "start_time": "2019-07-21T14:02:47.893843Z"
    }
   },
   "outputs": [
    {
     "data": {
      "text/plain": [
       "{'prediction_lgb_1': 0.15555555555555556,\n",
       " 'prediction_xgb_1': 0.16111111111111112,\n",
       " 'prediction_lasso_1': 0.12222222222222222,\n",
       " 'prediction_huber_1': 0.13055555555555556,\n",
       " 'prediction_GBR_1': 0.1375,\n",
       " 'prediction_RFR_1': 0.16111111111111112,\n",
       " 'prediction_LR_1': 0.13194444444444445}"
      ]
     },
     "execution_count": 267,
     "metadata": {},
     "output_type": "execute_result"
    }
   ],
   "source": [
    "model_importance"
   ]
  },
  {
   "cell_type": "code",
   "execution_count": 310,
   "metadata": {
    "ExecuteTime": {
     "end_time": "2019-07-21T14:52:46.497894Z",
     "start_time": "2019-07-21T14:52:46.493105Z"
    }
   },
   "outputs": [],
   "source": [
    "predictions_stack = np.stack((prediction_lgb_1, \n",
    "                              prediction_xgb_1, \n",
    "                              prediction_lasso_1,\\\n",
    "#                              prediction_huber_1, \\\n",
    "                              prediction_GBR_1, \n",
    "                              prediction_RFR_1,\n",
    "                              prediction_LR_1\n",
    "                             ) , axis = 0)\n",
    "\n",
    "model_predictions = dict(zip(models, predictions_stack))"
   ]
  },
  {
   "cell_type": "code",
   "execution_count": 272,
   "metadata": {
    "ExecuteTime": {
     "end_time": "2019-07-21T14:03:11.720851Z",
     "start_time": "2019-07-21T14:03:11.715786Z"
    }
   },
   "outputs": [
    {
     "data": {
      "text/plain": [
       "(7, 14067)"
      ]
     },
     "execution_count": 272,
     "metadata": {},
     "output_type": "execute_result"
    }
   ],
   "source": [
    "predictions_stack.shape"
   ]
  },
  {
   "cell_type": "code",
   "execution_count": 273,
   "metadata": {
    "ExecuteTime": {
     "end_time": "2019-07-21T14:03:13.491047Z",
     "start_time": "2019-07-21T14:03:13.486060Z"
    }
   },
   "outputs": [],
   "source": [
    "predictions = np.zeros(test_1.shape[0])\n",
    "\n",
    "for model in models:\n",
    "    predictions += model_importance[model]*model_predictions[model]"
   ]
  },
  {
   "cell_type": "code",
   "execution_count": 291,
   "metadata": {
    "ExecuteTime": {
     "end_time": "2019-07-21T14:22:17.836849Z",
     "start_time": "2019-07-21T14:22:17.830400Z"
    }
   },
   "outputs": [],
   "source": [
    "def create_submission(data, name):\n",
    "    sample_submission=pd.read_csv(\"data/sample_submission.csv\")\n",
    "    sample_submission['cc_cons'] = data\n",
    "    sample_submission.to_csv(name, index=False, quoting=3 )"
   ]
  },
  {
   "cell_type": "code",
   "execution_count": 316,
   "metadata": {
    "ExecuteTime": {
     "end_time": "2019-07-21T14:59:33.748642Z",
     "start_time": "2019-07-21T14:59:33.727895Z"
    }
   },
   "outputs": [],
   "source": [
    "create_submission(np.expm1(predictions), \"sample_submission_ensemble_2.csv\")"
   ]
  },
  {
   "cell_type": "code",
   "execution_count": null,
   "metadata": {},
   "outputs": [],
   "source": []
  }
 ],
 "metadata": {
  "kernelspec": {
   "display_name": "Python 3",
   "language": "python",
   "name": "python3"
  },
  "language_info": {
   "codemirror_mode": {
    "name": "ipython",
    "version": 3
   },
   "file_extension": ".py",
   "mimetype": "text/x-python",
   "name": "python",
   "nbconvert_exporter": "python",
   "pygments_lexer": "ipython3",
   "version": "3.7.3"
  },
  "toc": {
   "base_numbering": 1,
   "nav_menu": {},
   "number_sections": true,
   "sideBar": true,
   "skip_h1_title": false,
   "title_cell": "Table of Contents",
   "title_sidebar": "Contents",
   "toc_cell": false,
   "toc_position": {},
   "toc_section_display": true,
   "toc_window_display": false
  }
 },
 "nbformat": 4,
 "nbformat_minor": 2
}
